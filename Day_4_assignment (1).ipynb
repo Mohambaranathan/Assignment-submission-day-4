{
  "nbformat": 4,
  "nbformat_minor": 0,
  "metadata": {
    "colab": {
      "name": "Day 4 assignment",
      "provenance": []
    },
    "kernelspec": {
      "name": "python3",
      "display_name": "Python 3"
    },
    "language_info": {
      "name": "python"
    }
  },
  "cells": [
    {
      "cell_type": "code",
      "metadata": {
        "colab": {
          "base_uri": "https://localhost:8080/"
        },
        "id": "RHfFs0K1ZnMp",
        "outputId": "93149b14-c9e5-4101-d10d-e68a36f25349"
      },
      "source": [
        "# Day 4 assignment\n",
        "#Temperature converter project\n",
        "celsius = float(input('Enter temperature in Celsius: '))  \n",
        "  \n",
        "# calculate temperature in Fahrenheit  \n",
        "\n",
        "fahrenheit = (celsius * 1.8) + 32  \n",
        "print('%0.1f  Celsius is equal to %0.1f degree Fahrenheit'%(celsius,fahrenheit))"
      ],
      "execution_count": 2,
      "outputs": [
        {
          "output_type": "stream",
          "text": [
            "Enter temperature in Celsius: 37\n",
            "37.0  Celsius is equal to 98.6 degree Fahrenheit\n"
          ],
          "name": "stdout"
        }
      ]
    },
    {
      "cell_type": "code",
      "metadata": {
        "id": "y8aDaufwZoOo"
      },
      "source": [
        ""
      ],
      "execution_count": null,
      "outputs": []
    }
  ]
}